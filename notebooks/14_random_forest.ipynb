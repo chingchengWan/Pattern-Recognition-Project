{
 "cells": [
  {
   "cell_type": "markdown",
   "metadata": {},
   "source": [
    "# Random Forest Classifier\n"
   ]
  },
  {
   "cell_type": "markdown",
   "metadata": {},
   "source": [
    "## Get dataset"
   ]
  },
  {
   "cell_type": "code",
   "execution_count": 58,
   "metadata": {},
   "outputs": [
    {
     "data": {
      "text/plain": [
       "T3395營業利益          42233\n",
       "T7210營運現金流         43006\n",
       "T3950歸屬母公司淨利       38604\n",
       "T7211折舊            42970\n",
       "T0100流動資產          43314\n",
       "T1100流動負債          43314\n",
       "T7324取得不動產廠房及設備    41071\n",
       "T3970經常稅後淨利        43082\n",
       "R101_ROA稅後息前       33820\n",
       "R11V_ROA綜合損益       40598\n",
       "R103_ROE稅後         38514\n",
       "R11U_ROE綜合損益       41271\n",
       "R145_稅前息前折舊前淨利率    33229\n",
       "R105_營業毛利率         41656\n",
       "R106_營業利益率         41881\n",
       "R107_稅前淨利率         41819\n",
       "R108_稅後淨利率         41881\n",
       "R112_業外收支營收率       41868\n",
       "R179_貝里比率          41664\n",
       "R203_研究發展費用率       32222\n",
       "R205_現金流量比率        42058\n",
       "R207_稅率            42063\n",
       "R304_每股營業額         41882\n",
       "R305_每股營業利益        42233\n",
       "R303_每股現金流量        41500\n",
       "R306_每股稅前淨利        42900\n",
       "R314_每股綜合損益        42899\n",
       "R315_每股稅前淨利        42900\n",
       "R316_每股稅後淨利        38604\n",
       "R504_總負債除總淨值       44258\n",
       "R505_負債比率          43314\n",
       "R506_淨值除資產         43271\n",
       "R401_營收成長率         35012\n",
       "R402_營業毛利成長率       34850\n",
       "R403_營業利益成長率       35298\n",
       "R404_稅前淨利成長率       35797\n",
       "R405_稅後淨利成長率       35974\n",
       "R406_經常利益成長率       32611\n",
       "R408_資產總額成長率       35901\n",
       "R409_淨值成長率         36569\n",
       "R501_流動比率          43314\n",
       "R502_速動比率          38345\n",
       "R503_利息支出率         35119\n",
       "R678_營運資金          43314\n",
       "R607_總資產週轉次數       36734\n",
       "R610_存貨週轉率         35371\n",
       "R612_固定資產週轉次數      41774\n",
       "R613_淨值週轉率次        36906\n",
       "R69B_自由現金流量        34879\n",
       "dtype: int64"
      ]
     },
     "execution_count": 58,
     "metadata": {},
     "output_type": "execute_result"
    }
   ],
   "source": [
    "from finlab.ml import fundamental_features\n",
    "dataset = fundamental_features()\n",
    "dataset.count()"
   ]
  },
  {
   "cell_type": "code",
   "execution_count": 59,
   "metadata": {},
   "outputs": [
    {
     "name": "stdout",
     "output_type": "stream",
     "text": [
      "(62667, 49)\n",
      "(18003, 49)\n"
     ]
    }
   ],
   "source": [
    "print(dataset.shape)\n",
    "dataset = dataset.dropna(thresh=int(len(dataset)*0.5), axis=1).dropna(how='any')\n",
    "print(dataset.shape)"
   ]
  },
  {
   "cell_type": "markdown",
   "metadata": {},
   "source": [
    "## Add labels"
   ]
  },
  {
   "cell_type": "code",
   "execution_count": 60,
   "metadata": {},
   "outputs": [
    {
     "data": {
      "text/html": [
       "<div>\n",
       "<style scoped>\n",
       "    .dataframe tbody tr th:only-of-type {\n",
       "        vertical-align: middle;\n",
       "    }\n",
       "\n",
       "    .dataframe tbody tr th {\n",
       "        vertical-align: top;\n",
       "    }\n",
       "\n",
       "    .dataframe thead th {\n",
       "        text-align: right;\n",
       "    }\n",
       "</style>\n",
       "<table border=\"1\" class=\"dataframe\">\n",
       "  <thead>\n",
       "    <tr style=\"text-align: right;\">\n",
       "      <th></th>\n",
       "      <th></th>\n",
       "      <th>T3395營業利益</th>\n",
       "      <th>T7210營運現金流</th>\n",
       "      <th>T3950歸屬母公司淨利</th>\n",
       "      <th>T7211折舊</th>\n",
       "      <th>T0100流動資產</th>\n",
       "      <th>T1100流動負債</th>\n",
       "      <th>T7324取得不動產廠房及設備</th>\n",
       "      <th>T3970經常稅後淨利</th>\n",
       "      <th>R101_ROA稅後息前</th>\n",
       "      <th>R11V_ROA綜合損益</th>\n",
       "      <th>...</th>\n",
       "      <th>R501_流動比率</th>\n",
       "      <th>R502_速動比率</th>\n",
       "      <th>R503_利息支出率</th>\n",
       "      <th>R678_營運資金</th>\n",
       "      <th>R607_總資產週轉次數</th>\n",
       "      <th>R610_存貨週轉率</th>\n",
       "      <th>R612_固定資產週轉次數</th>\n",
       "      <th>R613_淨值週轉率次</th>\n",
       "      <th>R69B_自由現金流量</th>\n",
       "      <th>return</th>\n",
       "    </tr>\n",
       "    <tr>\n",
       "      <th>stock_id</th>\n",
       "      <th>date</th>\n",
       "      <th></th>\n",
       "      <th></th>\n",
       "      <th></th>\n",
       "      <th></th>\n",
       "      <th></th>\n",
       "      <th></th>\n",
       "      <th></th>\n",
       "      <th></th>\n",
       "      <th></th>\n",
       "      <th></th>\n",
       "      <th></th>\n",
       "      <th></th>\n",
       "      <th></th>\n",
       "      <th></th>\n",
       "      <th></th>\n",
       "      <th></th>\n",
       "      <th></th>\n",
       "      <th></th>\n",
       "      <th></th>\n",
       "      <th></th>\n",
       "      <th></th>\n",
       "    </tr>\n",
       "  </thead>\n",
       "  <tbody>\n",
       "    <tr>\n",
       "      <th rowspan=\"5\" valign=\"top\">1101</th>\n",
       "      <th>2014-05-15</th>\n",
       "      <td>3684224.0</td>\n",
       "      <td>6895832.0</td>\n",
       "      <td>4015175.0</td>\n",
       "      <td>1594505.0</td>\n",
       "      <td>92121458.0</td>\n",
       "      <td>74388787.0</td>\n",
       "      <td>-940633.0</td>\n",
       "      <td>2791235.0</td>\n",
       "      <td>-1.732411</td>\n",
       "      <td>1.630076</td>\n",
       "      <td>...</td>\n",
       "      <td>123.837828</td>\n",
       "      <td>101.776758</td>\n",
       "      <td>-9.792979</td>\n",
       "      <td>17732671.0</td>\n",
       "      <td>0.023981</td>\n",
       "      <td>0.550675</td>\n",
       "      <td>-81394854.0</td>\n",
       "      <td>0.044805</td>\n",
       "      <td>4901868.0</td>\n",
       "      <td>1.073347</td>\n",
       "    </tr>\n",
       "    <tr>\n",
       "      <th>2014-08-14</th>\n",
       "      <td>5938317.0</td>\n",
       "      <td>4452573.0</td>\n",
       "      <td>-754894.0</td>\n",
       "      <td>1573692.0</td>\n",
       "      <td>89163129.0</td>\n",
       "      <td>81190613.0</td>\n",
       "      <td>-465009.0</td>\n",
       "      <td>4828695.0</td>\n",
       "      <td>-0.952778</td>\n",
       "      <td>0.152556</td>\n",
       "      <td>...</td>\n",
       "      <td>109.819505</td>\n",
       "      <td>91.450337</td>\n",
       "      <td>-17.435186</td>\n",
       "      <td>7972516.0</td>\n",
       "      <td>0.028432</td>\n",
       "      <td>0.622629</td>\n",
       "      <td>-74379365.0</td>\n",
       "      <td>0.052721</td>\n",
       "      <td>16542181.0</td>\n",
       "      <td>0.984816</td>\n",
       "    </tr>\n",
       "    <tr>\n",
       "      <th>2014-11-14</th>\n",
       "      <td>5544164.0</td>\n",
       "      <td>3701961.0</td>\n",
       "      <td>3621052.0</td>\n",
       "      <td>1587492.0</td>\n",
       "      <td>89472928.0</td>\n",
       "      <td>78920574.0</td>\n",
       "      <td>-911057.0</td>\n",
       "      <td>4934486.0</td>\n",
       "      <td>-0.948101</td>\n",
       "      <td>2.168353</td>\n",
       "      <td>...</td>\n",
       "      <td>113.370853</td>\n",
       "      <td>93.976558</td>\n",
       "      <td>-17.800651</td>\n",
       "      <td>10552354.0</td>\n",
       "      <td>0.026593</td>\n",
       "      <td>0.581786</td>\n",
       "      <td>-76877637.0</td>\n",
       "      <td>0.049112</td>\n",
       "      <td>4768224.0</td>\n",
       "      <td>0.969163</td>\n",
       "    </tr>\n",
       "    <tr>\n",
       "      <th>2015-03-31</th>\n",
       "      <td>4690964.0</td>\n",
       "      <td>4936554.0</td>\n",
       "      <td>6459366.0</td>\n",
       "      <td>1575810.0</td>\n",
       "      <td>96605816.0</td>\n",
       "      <td>68632044.0</td>\n",
       "      <td>-1384489.0</td>\n",
       "      <td>4029460.0</td>\n",
       "      <td>-1.265106</td>\n",
       "      <td>3.002608</td>\n",
       "      <td>...</td>\n",
       "      <td>140.759054</td>\n",
       "      <td>117.966121</td>\n",
       "      <td>-13.169666</td>\n",
       "      <td>27973772.0</td>\n",
       "      <td>0.025961</td>\n",
       "      <td>0.565798</td>\n",
       "      <td>-78804395.0</td>\n",
       "      <td>0.047718</td>\n",
       "      <td>-10525322.0</td>\n",
       "      <td>0.956818</td>\n",
       "    </tr>\n",
       "    <tr>\n",
       "      <th>2015-05-15</th>\n",
       "      <td>1693508.0</td>\n",
       "      <td>5654152.0</td>\n",
       "      <td>349121.0</td>\n",
       "      <td>1711428.0</td>\n",
       "      <td>92471096.0</td>\n",
       "      <td>69579858.0</td>\n",
       "      <td>-818460.0</td>\n",
       "      <td>974518.0</td>\n",
       "      <td>-2.315297</td>\n",
       "      <td>0.069454</td>\n",
       "      <td>...</td>\n",
       "      <td>132.899231</td>\n",
       "      <td>109.303861</td>\n",
       "      <td>-7.153186</td>\n",
       "      <td>22891238.0</td>\n",
       "      <td>0.018713</td>\n",
       "      <td>0.455819</td>\n",
       "      <td>-89211708.0</td>\n",
       "      <td>0.034296</td>\n",
       "      <td>8494249.0</td>\n",
       "      <td>0.850077</td>\n",
       "    </tr>\n",
       "  </tbody>\n",
       "</table>\n",
       "<p>5 rows × 50 columns</p>\n",
       "</div>"
      ],
      "text/plain": [
       "                     T3395營業利益  T7210營運現金流  T3950歸屬母公司淨利    T7211折舊  \\\n",
       "stock_id date                                                         \n",
       "1101     2014-05-15  3684224.0   6895832.0     4015175.0  1594505.0   \n",
       "         2014-08-14  5938317.0   4452573.0     -754894.0  1573692.0   \n",
       "         2014-11-14  5544164.0   3701961.0     3621052.0  1587492.0   \n",
       "         2015-03-31  4690964.0   4936554.0     6459366.0  1575810.0   \n",
       "         2015-05-15  1693508.0   5654152.0      349121.0  1711428.0   \n",
       "\n",
       "                      T0100流動資產   T1100流動負債  T7324取得不動產廠房及設備  T3970經常稅後淨利  \\\n",
       "stock_id date                                                               \n",
       "1101     2014-05-15  92121458.0  74388787.0        -940633.0    2791235.0   \n",
       "         2014-08-14  89163129.0  81190613.0        -465009.0    4828695.0   \n",
       "         2014-11-14  89472928.0  78920574.0        -911057.0    4934486.0   \n",
       "         2015-03-31  96605816.0  68632044.0       -1384489.0    4029460.0   \n",
       "         2015-05-15  92471096.0  69579858.0        -818460.0     974518.0   \n",
       "\n",
       "                     R101_ROA稅後息前  R11V_ROA綜合損益  ...   R501_流動比率   R502_速動比率  \\\n",
       "stock_id date                                    ...                           \n",
       "1101     2014-05-15     -1.732411      1.630076  ...  123.837828  101.776758   \n",
       "         2014-08-14     -0.952778      0.152556  ...  109.819505   91.450337   \n",
       "         2014-11-14     -0.948101      2.168353  ...  113.370853   93.976558   \n",
       "         2015-03-31     -1.265106      3.002608  ...  140.759054  117.966121   \n",
       "         2015-05-15     -2.315297      0.069454  ...  132.899231  109.303861   \n",
       "\n",
       "                     R503_利息支出率   R678_營運資金  R607_總資產週轉次數  R610_存貨週轉率  \\\n",
       "stock_id date                                                           \n",
       "1101     2014-05-15   -9.792979  17732671.0      0.023981    0.550675   \n",
       "         2014-08-14  -17.435186   7972516.0      0.028432    0.622629   \n",
       "         2014-11-14  -17.800651  10552354.0      0.026593    0.581786   \n",
       "         2015-03-31  -13.169666  27973772.0      0.025961    0.565798   \n",
       "         2015-05-15   -7.153186  22891238.0      0.018713    0.455819   \n",
       "\n",
       "                     R612_固定資產週轉次數  R613_淨值週轉率次  R69B_自由現金流量    return  \n",
       "stock_id date                                                           \n",
       "1101     2014-05-15    -81394854.0     0.044805    4901868.0  1.073347  \n",
       "         2014-08-14    -74379365.0     0.052721   16542181.0  0.984816  \n",
       "         2014-11-14    -76877637.0     0.049112    4768224.0  0.969163  \n",
       "         2015-03-31    -78804395.0     0.047718  -10525322.0  0.956818  \n",
       "         2015-05-15    -89211708.0     0.034296    8494249.0  0.850077  \n",
       "\n",
       "[5 rows x 50 columns]"
      ]
     },
     "execution_count": 60,
     "metadata": {},
     "output_type": "execute_result"
    }
   ],
   "source": [
    "import finlab.ml as ml\n",
    "features = dataset.columns\n",
    "# features\n",
    "\n",
    "ml.add_profit_prediction(dataset)\n",
    "dataset = dataset.dropna()\n",
    "dataset.head()"
   ]
  },
  {
   "cell_type": "markdown",
   "metadata": {},
   "source": [
    "## Split Train Test dataset"
   ]
  },
  {
   "cell_type": "code",
   "execution_count": 62,
   "metadata": {},
   "outputs": [],
   "source": [
    "select = dataset.index.get_level_values('date') < '2017'\n",
    "dataset_train = dataset[select]\n",
    "dataset_test = dataset[~select]"
   ]
  },
  {
   "cell_type": "markdown",
   "metadata": {},
   "source": [
    "## Training"
   ]
  },
  {
   "cell_type": "code",
   "execution_count": 63,
   "metadata": {},
   "outputs": [
    {
     "data": {
      "text/plain": [
       "RandomForestClassifier(bootstrap=True, class_weight=None, criterion='gini',\n",
       "                       max_depth=None, max_features='auto', max_leaf_nodes=None,\n",
       "                       min_impurity_decrease=0.0, min_impurity_split=None,\n",
       "                       min_samples_leaf=1, min_samples_split=2,\n",
       "                       min_weight_fraction_leaf=0.0, n_estimators=100,\n",
       "                       n_jobs=None, oob_score=False, random_state=None,\n",
       "                       verbose=0, warm_start=False)"
      ]
     },
     "execution_count": 63,
     "metadata": {},
     "output_type": "execute_result"
    }
   ],
   "source": [
    "from sklearn.ensemble import RandomForestClassifier\n",
    "\n",
    "cf = RandomForestClassifier(n_estimators=100)\n",
    "cf.fit(dataset_train[features], dataset_train['return'] > 1)"
   ]
  },
  {
   "cell_type": "code",
   "execution_count": 64,
   "metadata": {},
   "outputs": [
    {
     "data": {
      "text/plain": [
       "0.5369347017029436"
      ]
     },
     "execution_count": 64,
     "metadata": {},
     "output_type": "execute_result"
    }
   ],
   "source": [
    "cf.score(dataset_test[features], dataset_test['return'] > 1)"
   ]
  },
  {
   "cell_type": "markdown",
   "metadata": {},
   "source": [
    "## Prediction"
   ]
  },
  {
   "cell_type": "code",
   "execution_count": 65,
   "metadata": {},
   "outputs": [],
   "source": [
    "import pandas as pd\n",
    "prediction = cf.predict(dataset_test[features]) "
   ]
  },
  {
   "cell_type": "markdown",
   "metadata": {},
   "source": [
    "## Backtest"
   ]
  },
  {
   "cell_type": "code",
   "execution_count": 66,
   "metadata": {},
   "outputs": [
    {
     "data": {
      "text/plain": [
       "<matplotlib.axes._subplots.AxesSubplot at 0x1250d5d30>"
      ]
     },
     "execution_count": 66,
     "metadata": {},
     "output_type": "execute_result"
    },
    {
     "data": {
      "image/png": "[encoded data removed]",
      "text/plain": [
       "<Figure size 432x288 with 1 Axes>"
      ]
     },
     "metadata": {
      "needs_background": "light"
     },
     "output_type": "display_data"
    }
   ],
   "source": [
    "import matplotlib.pyplot as plt\n",
    "plt.style.use(\"ggplot\")\n",
    "\n",
    "%matplotlib inline\n",
    "\n",
    "returns1 = dataset_test['return'][prediction == True]\n",
    "dates = returns1.index.get_level_values('date')\n",
    "returns1.groupby(dates).mean().cumprod().plot()\n",
    "\n",
    "returns2 = dataset_test['return'][prediction == False]\n",
    "dates = returns2.index.get_level_values('date')\n",
    "returns2.groupby(dates).mean().cumprod().plot()"
   ]
  },
  {
   "cell_type": "markdown",
   "metadata": {},
   "source": [
    "## Feature Importance"
   ]
  },
  {
   "cell_type": "code",
   "execution_count": 67,
   "metadata": {},
   "outputs": [
    {
     "data": {
      "text/plain": [
       "<matplotlib.axes._subplots.AxesSubplot at 0x125fe0f28>"
      ]
     },
     "execution_count": 67,
     "metadata": {},
     "output_type": "execute_result"
    },
    {
     "data": {
      "image/png": "[encoded data removed]",
      "text/plain": [
       "<Figure size 432x288 with 1 Axes>"
      ]
     },
     "metadata": {
      "needs_background": "light"
     },
     "output_type": "display_data"
    }
   ],
   "source": [
    "items = list(importance.head(20).index)\n",
    "\n",
    "def select_stock(df):\n",
    "    rank = df[items].rank(pct = True).sum(axis = 1)\n",
    "    condition = rank.rank(pct = True) > 0.9\n",
    "    return df[condition]['return'].mean()\n",
    "\n",
    "dates = dataset.index.get_level_values(\"date\")\n",
    "dataset.groupby(dates).apply(select_stock).cumprod().plot()\n",
    "dataset.groupby(dates).mean()['return'].cumprod().plot()"
   ]
  },
  {
   "cell_type": "code",
   "execution_count": 68,
   "metadata": {},
   "outputs": [
    {
     "data": {
      "text/plain": [
       "R409_淨值成長率         0.028889\n",
       "R408_資產總額成長率       0.028536\n",
       "R401_營收成長率         0.024002\n",
       "R69B_自由現金流量        0.023828\n",
       "R203_研究發展費用率       0.023552\n",
       "R403_營業利益成長率       0.023303\n",
       "R303_每股現金流量        0.022526\n",
       "R103_ROE稅後         0.022231\n",
       "R205_現金流量比率        0.022219\n",
       "R112_業外收支營收率       0.022130\n",
       "R610_存貨週轉率         0.022036\n",
       "R404_稅前淨利成長率       0.021922\n",
       "R402_營業毛利成長率       0.021861\n",
       "R179_貝里比率          0.021246\n",
       "R503_利息支出率         0.021214\n",
       "R105_營業毛利率         0.021002\n",
       "R207_稅率            0.020395\n",
       "R106_營業利益率         0.020325\n",
       "R406_經常利益成長率       0.020323\n",
       "R11U_ROE綜合損益       0.020308\n",
       "R405_稅後淨利成長率       0.020294\n",
       "T7324取得不動產廠房及設備    0.020246\n",
       "R607_總資產週轉次數       0.020242\n",
       "R101_ROA稅後息前       0.020131\n",
       "R11V_ROA綜合損益       0.020060\n",
       "R305_每股營業利益        0.020003\n",
       "R678_營運資金          0.019832\n",
       "R502_速動比率          0.019679\n",
       "T7210營運現金流         0.019644\n",
       "R501_流動比率          0.019315\n",
       "T7211折舊            0.019299\n",
       "T3395營業利益          0.019297\n",
       "R612_固定資產週轉次數      0.019224\n",
       "T3970經常稅後淨利        0.018914\n",
       "R613_淨值週轉率次        0.018892\n",
       "R304_每股營業額         0.018891\n",
       "R314_每股綜合損益        0.018777\n",
       "T3950歸屬母公司淨利       0.018710\n",
       "R315_每股稅前淨利        0.018672\n",
       "R107_稅前淨利率         0.018642\n",
       "R145_稅前息前折舊前淨利率    0.018514\n",
       "R108_稅後淨利率         0.018269\n",
       "R316_每股稅後淨利        0.018141\n",
       "R306_每股稅前淨利        0.017909\n",
       "R506_淨值除資產         0.017763\n",
       "R504_總負債除總淨值       0.017659\n",
       "T1100流動負債          0.017425\n",
       "R505_負債比率          0.016970\n",
       "T0100流動資產          0.016737\n",
       "dtype: float64"
      ]
     },
     "execution_count": 68,
     "metadata": {},
     "output_type": "execute_result"
    }
   ],
   "source": [
    "importance = pd.Series(cf.feature_importances_, index=features).sort_values(ascending=False)\n",
    "importance"
   ]
  },
  {
   "cell_type": "markdown",
   "metadata": {},
   "source": [
    "## New Strategy using feature importance"
   ]
  },
  {
   "cell_type": "code",
   "execution_count": 69,
   "metadata": {},
   "outputs": [
    {
     "data": {
      "text/html": [
       "<div>\n",
       "<style scoped>\n",
       "    .dataframe tbody tr th:only-of-type {\n",
       "        vertical-align: middle;\n",
       "    }\n",
       "\n",
       "    .dataframe tbody tr th {\n",
       "        vertical-align: top;\n",
       "    }\n",
       "\n",
       "    .dataframe thead th {\n",
       "        text-align: right;\n",
       "    }\n",
       "</style>\n",
       "<table border=\"1\" class=\"dataframe\">\n",
       "  <thead>\n",
       "    <tr style=\"text-align: right;\">\n",
       "      <th></th>\n",
       "      <th></th>\n",
       "      <th>T3395營業利益</th>\n",
       "      <th>T7210營運現金流</th>\n",
       "      <th>T3950歸屬母公司淨利</th>\n",
       "      <th>T7211折舊</th>\n",
       "      <th>T0100流動資產</th>\n",
       "      <th>T1100流動負債</th>\n",
       "      <th>T7324取得不動產廠房及設備</th>\n",
       "      <th>T3970經常稅後淨利</th>\n",
       "      <th>R101_ROA稅後息前</th>\n",
       "      <th>R11V_ROA綜合損益</th>\n",
       "      <th>...</th>\n",
       "      <th>R502_速動比率</th>\n",
       "      <th>R503_利息支出率</th>\n",
       "      <th>R678_營運資金</th>\n",
       "      <th>R607_總資產週轉次數</th>\n",
       "      <th>R610_存貨週轉率</th>\n",
       "      <th>R612_固定資產週轉次數</th>\n",
       "      <th>R613_淨值週轉率次</th>\n",
       "      <th>R69B_自由現金流量</th>\n",
       "      <th>return</th>\n",
       "      <th>bias</th>\n",
       "    </tr>\n",
       "    <tr>\n",
       "      <th>stock_id</th>\n",
       "      <th>date</th>\n",
       "      <th></th>\n",
       "      <th></th>\n",
       "      <th></th>\n",
       "      <th></th>\n",
       "      <th></th>\n",
       "      <th></th>\n",
       "      <th></th>\n",
       "      <th></th>\n",
       "      <th></th>\n",
       "      <th></th>\n",
       "      <th></th>\n",
       "      <th></th>\n",
       "      <th></th>\n",
       "      <th></th>\n",
       "      <th></th>\n",
       "      <th></th>\n",
       "      <th></th>\n",
       "      <th></th>\n",
       "      <th></th>\n",
       "      <th></th>\n",
       "      <th></th>\n",
       "    </tr>\n",
       "  </thead>\n",
       "  <tbody>\n",
       "    <tr>\n",
       "      <th rowspan=\"5\" valign=\"top\">1101</th>\n",
       "      <th>2014-05-15</th>\n",
       "      <td>3684224.0</td>\n",
       "      <td>6895832.0</td>\n",
       "      <td>4015175.0</td>\n",
       "      <td>1594505.0</td>\n",
       "      <td>92121458.0</td>\n",
       "      <td>74388787.0</td>\n",
       "      <td>-940633.0</td>\n",
       "      <td>2791235.0</td>\n",
       "      <td>-1.732411</td>\n",
       "      <td>1.630076</td>\n",
       "      <td>...</td>\n",
       "      <td>101.776758</td>\n",
       "      <td>-9.792979</td>\n",
       "      <td>17732671.0</td>\n",
       "      <td>0.023981</td>\n",
       "      <td>0.550675</td>\n",
       "      <td>-81394854.0</td>\n",
       "      <td>0.044805</td>\n",
       "      <td>4901868.0</td>\n",
       "      <td>1.073347</td>\n",
       "      <td>0.960967</td>\n",
       "    </tr>\n",
       "    <tr>\n",
       "      <th>2014-08-14</th>\n",
       "      <td>5938317.0</td>\n",
       "      <td>4452573.0</td>\n",
       "      <td>-754894.0</td>\n",
       "      <td>1573692.0</td>\n",
       "      <td>89163129.0</td>\n",
       "      <td>81190613.0</td>\n",
       "      <td>-465009.0</td>\n",
       "      <td>4828695.0</td>\n",
       "      <td>-0.952778</td>\n",
       "      <td>0.152556</td>\n",
       "      <td>...</td>\n",
       "      <td>91.450337</td>\n",
       "      <td>-17.435186</td>\n",
       "      <td>7972516.0</td>\n",
       "      <td>0.028432</td>\n",
       "      <td>0.622629</td>\n",
       "      <td>-74379365.0</td>\n",
       "      <td>0.052721</td>\n",
       "      <td>16542181.0</td>\n",
       "      <td>0.984816</td>\n",
       "      <td>1.021982</td>\n",
       "    </tr>\n",
       "    <tr>\n",
       "      <th>2014-11-14</th>\n",
       "      <td>5544164.0</td>\n",
       "      <td>3701961.0</td>\n",
       "      <td>3621052.0</td>\n",
       "      <td>1587492.0</td>\n",
       "      <td>89472928.0</td>\n",
       "      <td>78920574.0</td>\n",
       "      <td>-911057.0</td>\n",
       "      <td>4934486.0</td>\n",
       "      <td>-0.948101</td>\n",
       "      <td>2.168353</td>\n",
       "      <td>...</td>\n",
       "      <td>93.976558</td>\n",
       "      <td>-17.800651</td>\n",
       "      <td>10552354.0</td>\n",
       "      <td>0.026593</td>\n",
       "      <td>0.581786</td>\n",
       "      <td>-76877637.0</td>\n",
       "      <td>0.049112</td>\n",
       "      <td>4768224.0</td>\n",
       "      <td>0.969163</td>\n",
       "      <td>0.971380</td>\n",
       "    </tr>\n",
       "    <tr>\n",
       "      <th>2015-03-31</th>\n",
       "      <td>4690964.0</td>\n",
       "      <td>4936554.0</td>\n",
       "      <td>6459366.0</td>\n",
       "      <td>1575810.0</td>\n",
       "      <td>96605816.0</td>\n",
       "      <td>68632044.0</td>\n",
       "      <td>-1384489.0</td>\n",
       "      <td>4029460.0</td>\n",
       "      <td>-1.265106</td>\n",
       "      <td>3.002608</td>\n",
       "      <td>...</td>\n",
       "      <td>117.966121</td>\n",
       "      <td>-13.169666</td>\n",
       "      <td>27973772.0</td>\n",
       "      <td>0.025961</td>\n",
       "      <td>0.565798</td>\n",
       "      <td>-78804395.0</td>\n",
       "      <td>0.047718</td>\n",
       "      <td>-10525322.0</td>\n",
       "      <td>0.956818</td>\n",
       "      <td>1.040769</td>\n",
       "    </tr>\n",
       "    <tr>\n",
       "      <th>2015-05-15</th>\n",
       "      <td>1693508.0</td>\n",
       "      <td>5654152.0</td>\n",
       "      <td>349121.0</td>\n",
       "      <td>1711428.0</td>\n",
       "      <td>92471096.0</td>\n",
       "      <td>69579858.0</td>\n",
       "      <td>-818460.0</td>\n",
       "      <td>974518.0</td>\n",
       "      <td>-2.315297</td>\n",
       "      <td>0.069454</td>\n",
       "      <td>...</td>\n",
       "      <td>109.303861</td>\n",
       "      <td>-7.153186</td>\n",
       "      <td>22891238.0</td>\n",
       "      <td>0.018713</td>\n",
       "      <td>0.455819</td>\n",
       "      <td>-89211708.0</td>\n",
       "      <td>0.034296</td>\n",
       "      <td>8494249.0</td>\n",
       "      <td>0.850077</td>\n",
       "      <td>0.988372</td>\n",
       "    </tr>\n",
       "  </tbody>\n",
       "</table>\n",
       "<p>5 rows × 51 columns</p>\n",
       "</div>"
      ],
      "text/plain": [
       "                     T3395營業利益  T7210營運現金流  T3950歸屬母公司淨利    T7211折舊  \\\n",
       "stock_id date                                                         \n",
       "1101     2014-05-15  3684224.0   6895832.0     4015175.0  1594505.0   \n",
       "         2014-08-14  5938317.0   4452573.0     -754894.0  1573692.0   \n",
       "         2014-11-14  5544164.0   3701961.0     3621052.0  1587492.0   \n",
       "         2015-03-31  4690964.0   4936554.0     6459366.0  1575810.0   \n",
       "         2015-05-15  1693508.0   5654152.0      349121.0  1711428.0   \n",
       "\n",
       "                      T0100流動資產   T1100流動負債  T7324取得不動產廠房及設備  T3970經常稅後淨利  \\\n",
       "stock_id date                                                               \n",
       "1101     2014-05-15  92121458.0  74388787.0        -940633.0    2791235.0   \n",
       "         2014-08-14  89163129.0  81190613.0        -465009.0    4828695.0   \n",
       "         2014-11-14  89472928.0  78920574.0        -911057.0    4934486.0   \n",
       "         2015-03-31  96605816.0  68632044.0       -1384489.0    4029460.0   \n",
       "         2015-05-15  92471096.0  69579858.0        -818460.0     974518.0   \n",
       "\n",
       "                     R101_ROA稅後息前  R11V_ROA綜合損益  ...   R502_速動比率  R503_利息支出率  \\\n",
       "stock_id date                                    ...                           \n",
       "1101     2014-05-15     -1.732411      1.630076  ...  101.776758   -9.792979   \n",
       "         2014-08-14     -0.952778      0.152556  ...   91.450337  -17.435186   \n",
       "         2014-11-14     -0.948101      2.168353  ...   93.976558  -17.800651   \n",
       "         2015-03-31     -1.265106      3.002608  ...  117.966121  -13.169666   \n",
       "         2015-05-15     -2.315297      0.069454  ...  109.303861   -7.153186   \n",
       "\n",
       "                      R678_營運資金  R607_總資產週轉次數  R610_存貨週轉率  R612_固定資產週轉次數  \\\n",
       "stock_id date                                                              \n",
       "1101     2014-05-15  17732671.0      0.023981    0.550675    -81394854.0   \n",
       "         2014-08-14   7972516.0      0.028432    0.622629    -74379365.0   \n",
       "         2014-11-14  10552354.0      0.026593    0.581786    -76877637.0   \n",
       "         2015-03-31  27973772.0      0.025961    0.565798    -78804395.0   \n",
       "         2015-05-15  22891238.0      0.018713    0.455819    -89211708.0   \n",
       "\n",
       "                     R613_淨值週轉率次  R69B_自由現金流量    return      bias  \n",
       "stock_id date                                                      \n",
       "1101     2014-05-15     0.044805    4901868.0  1.073347  0.960967  \n",
       "         2014-08-14     0.052721   16542181.0  0.984816  1.021982  \n",
       "         2014-11-14     0.049112    4768224.0  0.969163  0.971380  \n",
       "         2015-03-31     0.047718  -10525322.0  0.956818  1.040769  \n",
       "         2015-05-15     0.034296    8494249.0  0.850077  0.988372  \n",
       "\n",
       "[5 rows x 51 columns]"
      ]
     },
     "execution_count": 69,
     "metadata": {},
     "output_type": "execute_result"
    }
   ],
   "source": [
    "from finlab.data import Data\n",
    "data = Data()\n",
    "close = data.get('收盤價')\n",
    "sma = close.rolling(60, min_periods =10).mean()\n",
    "bias = close / sma\n",
    "\n",
    "ml.add_feature(dataset, 'bias', bias)\n",
    "dataset.head()"
   ]
  },
  {
   "cell_type": "code",
   "execution_count": 73,
   "metadata": {},
   "outputs": [
    {
     "data": {
      "text/plain": [
       "<matplotlib.axes._subplots.AxesSubplot at 0x11a0d4f60>"
      ]
     },
     "execution_count": 73,
     "metadata": {},
     "output_type": "execute_result"
    },
    {
     "data": {
      "image/png": "[encoded data removed]",
      "text/plain": [
       "<Figure size 432x288 with 1 Axes>"
      ]
     },
     "metadata": {
      "needs_background": "light"
     },
     "output_type": "display_data"
    }
   ],
   "source": [
    "# 沒有考慮bias\n",
    "items = list(importance.index[:20])\n",
    "\n",
    "def select(df):\n",
    "    rank = df[items].rank(pct = True).sum(axis=1)\n",
    "    condition = rank.rank(pct = True) > 0.9\n",
    "    return df[condition]['return'].mean()\n",
    "\n",
    "dates = dataset.index.get_level_values('date')\n",
    "dataset.groupby(dates).apply(select).cumprod().plot()\n",
    "dataset['return'].groupby(dates).mean().cumprod().plot()"
   ]
  },
  {
   "cell_type": "code",
   "execution_count": 70,
   "metadata": {},
   "outputs": [
    {
     "data": {
      "text/plain": [
       "<matplotlib.axes._subplots.AxesSubplot at 0x1250c0e48>"
      ]
     },
     "execution_count": 70,
     "metadata": {},
     "output_type": "execute_result"
    },
    {
     "data": {
      "image/png": "[encoded data removed]",
      "text/plain": [
       "<Figure size 432x288 with 1 Axes>"
      ]
     },
     "metadata": {
      "needs_background": "light"
     },
     "output_type": "display_data"
    }
   ],
   "source": [
    "# 考慮bias\n",
    "items = list(importance.index[:20])\n",
    "\n",
    "def select(df):\n",
    "    rank = df[items].rank(pct=True).sum(axis=1)\n",
    "    return df[rank > rank.quantile(0.9)]['return'][df['bias'] > 1].mean()\n",
    "\n",
    "dates = dataset.index.get_level_values('date')\n",
    "dataset.groupby(dates).apply(select).cumprod().plot()\n",
    "dataset['return'].groupby(dates).mean().cumprod().plot()"
   ]
  },
  {
   "cell_type": "code",
   "execution_count": null,
   "metadata": {},
   "outputs": [],
   "source": []
  }
 ],
 "metadata": {
  "kernelspec": {
   "display_name": "finlab",
   "language": "python",
   "name": "finlab"
  },
  "language_info": {
   "codemirror_mode": {
    "name": "ipython",
    "version": 3
   },
   "file_extension": ".py",
   "mimetype": "text/x-python",
   "name": "python",
   "nbconvert_exporter": "python",
   "pygments_lexer": "ipython3",
   "version": "3.6.9"
  }
 },
 "nbformat": 4,
 "nbformat_minor": 4
}
